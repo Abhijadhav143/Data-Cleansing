{
 "cells": [
  {
   "cell_type": "markdown",
   "id": "27ce3a55",
   "metadata": {},
   "source": [
    "## Import Neccesary Libraries"
   ]
  },
  {
   "cell_type": "code",
   "execution_count": 37,
   "id": "e2417a73",
   "metadata": {},
   "outputs": [],
   "source": [
    "import pandas as pd\n",
    "import numpy as np"
   ]
  },
  {
   "cell_type": "markdown",
   "id": "a4035886",
   "metadata": {},
   "source": [
    "## Import Data "
   ]
  },
  {
   "cell_type": "code",
   "execution_count": 38,
   "id": "9181c2d9",
   "metadata": {},
   "outputs": [
    {
     "data": {
      "text/html": [
       "<div>\n",
       "<style scoped>\n",
       "    .dataframe tbody tr th:only-of-type {\n",
       "        vertical-align: middle;\n",
       "    }\n",
       "\n",
       "    .dataframe tbody tr th {\n",
       "        vertical-align: top;\n",
       "    }\n",
       "\n",
       "    .dataframe thead th {\n",
       "        text-align: right;\n",
       "    }\n",
       "</style>\n",
       "<table border=\"1\" class=\"dataframe\">\n",
       "  <thead>\n",
       "    <tr style=\"text-align: right;\">\n",
       "      <th></th>\n",
       "      <th>Date</th>\n",
       "      <th>Voucher</th>\n",
       "      <th>Party</th>\n",
       "      <th>Product</th>\n",
       "      <th>Qty</th>\n",
       "      <th>Rate</th>\n",
       "      <th>Gross</th>\n",
       "      <th>Disc</th>\n",
       "      <th>Voucher Amount</th>\n",
       "    </tr>\n",
       "  </thead>\n",
       "  <tbody>\n",
       "    <tr>\n",
       "      <th>0</th>\n",
       "      <td>1/4/2017</td>\n",
       "      <td>Sal:1</td>\n",
       "      <td>SOLANKI PLASTICS</td>\n",
       "      <td>DONA-VAI-9100</td>\n",
       "      <td>2</td>\n",
       "      <td>1,690.00</td>\n",
       "      <td>3,380.00</td>\n",
       "      <td>NaN</td>\n",
       "      <td>13,100.00</td>\n",
       "    </tr>\n",
       "    <tr>\n",
       "      <th>1</th>\n",
       "      <td>1/4/2017</td>\n",
       "      <td>Sal:1</td>\n",
       "      <td>SOLANKI PLASTICS</td>\n",
       "      <td>LITE FOAM(1200)</td>\n",
       "      <td>6</td>\n",
       "      <td>1,620.00</td>\n",
       "      <td>9,720.00</td>\n",
       "      <td>NaN</td>\n",
       "      <td>NaN</td>\n",
       "    </tr>\n",
       "    <tr>\n",
       "      <th>2</th>\n",
       "      <td>1/4/2017</td>\n",
       "      <td>Sal:2</td>\n",
       "      <td>SARNESWARA TRADERS</td>\n",
       "      <td>VISHNU CHOTA WINE</td>\n",
       "      <td>500</td>\n",
       "      <td>23</td>\n",
       "      <td>11,500.00</td>\n",
       "      <td>NaN</td>\n",
       "      <td>30,990.00</td>\n",
       "    </tr>\n",
       "    <tr>\n",
       "      <th>3</th>\n",
       "      <td>1/4/2017</td>\n",
       "      <td>Sal:2</td>\n",
       "      <td>SARNESWARA TRADERS</td>\n",
       "      <td>LITE FOAM(1200)</td>\n",
       "      <td>6</td>\n",
       "      <td>1,620.00</td>\n",
       "      <td>9,720.00</td>\n",
       "      <td>NaN</td>\n",
       "      <td>NaN</td>\n",
       "    </tr>\n",
       "    <tr>\n",
       "      <th>4</th>\n",
       "      <td>1/4/2017</td>\n",
       "      <td>Sal:2</td>\n",
       "      <td>SARNESWARA TRADERS</td>\n",
       "      <td>DONA-VAI-9100</td>\n",
       "      <td>5</td>\n",
       "      <td>1,690.00</td>\n",
       "      <td>8,450.00</td>\n",
       "      <td>NaN</td>\n",
       "      <td>NaN</td>\n",
       "    </tr>\n",
       "  </tbody>\n",
       "</table>\n",
       "</div>"
      ],
      "text/plain": [
       "       Date Voucher               Party            Product  Qty      Rate  \\\n",
       "0  1/4/2017   Sal:1    SOLANKI PLASTICS      DONA-VAI-9100    2  1,690.00   \n",
       "1  1/4/2017   Sal:1    SOLANKI PLASTICS    LITE FOAM(1200)    6  1,620.00   \n",
       "2  1/4/2017   Sal:2  SARNESWARA TRADERS  VISHNU CHOTA WINE  500        23   \n",
       "3  1/4/2017   Sal:2  SARNESWARA TRADERS    LITE FOAM(1200)    6  1,620.00   \n",
       "4  1/4/2017   Sal:2  SARNESWARA TRADERS      DONA-VAI-9100    5  1,690.00   \n",
       "\n",
       "       Gross Disc Voucher Amount  \n",
       "0   3,380.00  NaN      13,100.00  \n",
       "1   9,720.00  NaN            NaN  \n",
       "2  11,500.00  NaN      30,990.00  \n",
       "3   9,720.00  NaN            NaN  \n",
       "4   8,450.00  NaN            NaN  "
      ]
     },
     "execution_count": 38,
     "metadata": {},
     "output_type": "execute_result"
    }
   ],
   "source": [
    "sales_data_2017 = pd.read_csv(\"Sales Transactions-2017.csv\")\n",
    "sales_data_2017.head()"
   ]
  },
  {
   "cell_type": "code",
   "execution_count": 39,
   "id": "bf9b095d",
   "metadata": {},
   "outputs": [
    {
     "data": {
      "text/html": [
       "<div>\n",
       "<style scoped>\n",
       "    .dataframe tbody tr th:only-of-type {\n",
       "        vertical-align: middle;\n",
       "    }\n",
       "\n",
       "    .dataframe tbody tr th {\n",
       "        vertical-align: top;\n",
       "    }\n",
       "\n",
       "    .dataframe thead th {\n",
       "        text-align: right;\n",
       "    }\n",
       "</style>\n",
       "<table border=\"1\" class=\"dataframe\">\n",
       "  <thead>\n",
       "    <tr style=\"text-align: right;\">\n",
       "      <th></th>\n",
       "      <th>Date</th>\n",
       "      <th>Voucher</th>\n",
       "      <th>Party</th>\n",
       "      <th>Product</th>\n",
       "      <th>Qty</th>\n",
       "      <th>Rate</th>\n",
       "      <th>Gross</th>\n",
       "      <th>Disc</th>\n",
       "      <th>Voucher Amount</th>\n",
       "    </tr>\n",
       "  </thead>\n",
       "  <tbody>\n",
       "    <tr>\n",
       "      <th>0</th>\n",
       "      <td>1/4/2018</td>\n",
       "      <td>Sal:146</td>\n",
       "      <td>TP13</td>\n",
       "      <td>SILVER POUCH 9*12</td>\n",
       "      <td>50</td>\n",
       "      <td>85</td>\n",
       "      <td>4,250.00</td>\n",
       "      <td>NaN</td>\n",
       "      <td>66,724.00</td>\n",
       "    </tr>\n",
       "    <tr>\n",
       "      <th>1</th>\n",
       "      <td>1/4/2018</td>\n",
       "      <td>Sal:146</td>\n",
       "      <td>TP13</td>\n",
       "      <td>RUBBER</td>\n",
       "      <td>5</td>\n",
       "      <td>290</td>\n",
       "      <td>1,450.00</td>\n",
       "      <td>NaN</td>\n",
       "      <td>NaN</td>\n",
       "    </tr>\n",
       "    <tr>\n",
       "      <th>2</th>\n",
       "      <td>1/4/2018</td>\n",
       "      <td>Sal:146</td>\n",
       "      <td>TP13</td>\n",
       "      <td>DURGA 10*12 Blue</td>\n",
       "      <td>1,600.00</td>\n",
       "      <td>5.5</td>\n",
       "      <td>8,800.00</td>\n",
       "      <td>NaN</td>\n",
       "      <td>NaN</td>\n",
       "    </tr>\n",
       "    <tr>\n",
       "      <th>3</th>\n",
       "      <td>1/4/2018</td>\n",
       "      <td>Sal:146</td>\n",
       "      <td>TP13</td>\n",
       "      <td>DURGA 13*16 BLUE</td>\n",
       "      <td>400</td>\n",
       "      <td>11</td>\n",
       "      <td>4,400.00</td>\n",
       "      <td>NaN</td>\n",
       "      <td>NaN</td>\n",
       "    </tr>\n",
       "    <tr>\n",
       "      <th>4</th>\n",
       "      <td>1/4/2018</td>\n",
       "      <td>Sal:146</td>\n",
       "      <td>TP13</td>\n",
       "      <td>10*12 SARAS-NAT</td>\n",
       "      <td>600</td>\n",
       "      <td>8.1</td>\n",
       "      <td>4,860.00</td>\n",
       "      <td>NaN</td>\n",
       "      <td>NaN</td>\n",
       "    </tr>\n",
       "  </tbody>\n",
       "</table>\n",
       "</div>"
      ],
      "text/plain": [
       "       Date  Voucher Party            Product       Qty Rate     Gross Disc  \\\n",
       "0  1/4/2018  Sal:146  TP13  SILVER POUCH 9*12        50   85  4,250.00  NaN   \n",
       "1  1/4/2018  Sal:146  TP13             RUBBER         5  290  1,450.00  NaN   \n",
       "2  1/4/2018  Sal:146  TP13   DURGA 10*12 Blue  1,600.00  5.5  8,800.00  NaN   \n",
       "3  1/4/2018  Sal:146  TP13   DURGA 13*16 BLUE       400   11  4,400.00  NaN   \n",
       "4  1/4/2018  Sal:146  TP13    10*12 SARAS-NAT       600  8.1  4,860.00  NaN   \n",
       "\n",
       "  Voucher Amount  \n",
       "0      66,724.00  \n",
       "1            NaN  \n",
       "2            NaN  \n",
       "3            NaN  \n",
       "4            NaN  "
      ]
     },
     "execution_count": 39,
     "metadata": {},
     "output_type": "execute_result"
    }
   ],
   "source": [
    "sales_data_2018 = pd.read_csv(\"Sales Transactions-2018 (1).csv\")\n",
    "sales_data_2018.head()"
   ]
  },
  {
   "cell_type": "code",
   "execution_count": 40,
   "id": "b7f83672",
   "metadata": {},
   "outputs": [
    {
     "data": {
      "text/html": [
       "<div>\n",
       "<style scoped>\n",
       "    .dataframe tbody tr th:only-of-type {\n",
       "        vertical-align: middle;\n",
       "    }\n",
       "\n",
       "    .dataframe tbody tr th {\n",
       "        vertical-align: top;\n",
       "    }\n",
       "\n",
       "    .dataframe thead th {\n",
       "        text-align: right;\n",
       "    }\n",
       "</style>\n",
       "<table border=\"1\" class=\"dataframe\">\n",
       "  <thead>\n",
       "    <tr style=\"text-align: right;\">\n",
       "      <th></th>\n",
       "      <th>Date</th>\n",
       "      <th>Voucher</th>\n",
       "      <th>Party</th>\n",
       "      <th>Product</th>\n",
       "      <th>Qty</th>\n",
       "      <th>Rate</th>\n",
       "      <th>Gross</th>\n",
       "      <th>Disc</th>\n",
       "      <th>Voucher Amount</th>\n",
       "    </tr>\n",
       "  </thead>\n",
       "  <tbody>\n",
       "    <tr>\n",
       "      <th>0</th>\n",
       "      <td>1/4/2019</td>\n",
       "      <td>Sal:687</td>\n",
       "      <td>BALAJI PLASTICS</td>\n",
       "      <td>DONA-VAI-9100</td>\n",
       "      <td>1</td>\n",
       "      <td>1,730.00</td>\n",
       "      <td>1,730.00</td>\n",
       "      <td>NaN</td>\n",
       "      <td>3,460.00</td>\n",
       "    </tr>\n",
       "    <tr>\n",
       "      <th>1</th>\n",
       "      <td>1/4/2019</td>\n",
       "      <td>Sal:687</td>\n",
       "      <td>BALAJI PLASTICS</td>\n",
       "      <td>SMART BOUL(48)</td>\n",
       "      <td>1</td>\n",
       "      <td>1,730.00</td>\n",
       "      <td>1,730.00</td>\n",
       "      <td>NaN</td>\n",
       "      <td>NaN</td>\n",
       "    </tr>\n",
       "    <tr>\n",
       "      <th>2</th>\n",
       "      <td>1/4/2019</td>\n",
       "      <td>Sal:688</td>\n",
       "      <td>BALAJI PLASTICS</td>\n",
       "      <td>Vishnu Ice</td>\n",
       "      <td>110</td>\n",
       "      <td>18.5</td>\n",
       "      <td>2,035.00</td>\n",
       "      <td>NaN</td>\n",
       "      <td>2,035.00</td>\n",
       "    </tr>\n",
       "    <tr>\n",
       "      <th>3</th>\n",
       "      <td></td>\n",
       "      <td></td>\n",
       "      <td>28/3</td>\n",
       "      <td></td>\n",
       "      <td>0</td>\n",
       "      <td>0</td>\n",
       "      <td></td>\n",
       "      <td></td>\n",
       "      <td></td>\n",
       "    </tr>\n",
       "    <tr>\n",
       "      <th>4</th>\n",
       "      <td>1/4/2019</td>\n",
       "      <td>Sal:689</td>\n",
       "      <td>BALAJI PLASTICS</td>\n",
       "      <td>100LEAF -SP</td>\n",
       "      <td>3</td>\n",
       "      <td>585</td>\n",
       "      <td>1,755.00</td>\n",
       "      <td>NaN</td>\n",
       "      <td>1,755.00</td>\n",
       "    </tr>\n",
       "  </tbody>\n",
       "</table>\n",
       "</div>"
      ],
      "text/plain": [
       "       Date  Voucher            Party         Product  Qty      Rate  \\\n",
       "0  1/4/2019  Sal:687  BALAJI PLASTICS   DONA-VAI-9100    1  1,730.00   \n",
       "1  1/4/2019  Sal:687  BALAJI PLASTICS  SMART BOUL(48)    1  1,730.00   \n",
       "2  1/4/2019  Sal:688  BALAJI PLASTICS      Vishnu Ice  110      18.5   \n",
       "3                                28/3                    0         0   \n",
       "4  1/4/2019  Sal:689  BALAJI PLASTICS     100LEAF -SP    3       585   \n",
       "\n",
       "      Gross Disc Voucher Amount  \n",
       "0  1,730.00  NaN       3,460.00  \n",
       "1  1,730.00  NaN            NaN  \n",
       "2  2,035.00  NaN       2,035.00  \n",
       "3                                \n",
       "4  1,755.00  NaN       1,755.00  "
      ]
     },
     "execution_count": 40,
     "metadata": {},
     "output_type": "execute_result"
    }
   ],
   "source": [
    "sales_data_2019 = pd.read_csv(\"Sales Transactions-2019 (1).csv\")\n",
    "sales_data_2019.head()"
   ]
  },
  {
   "cell_type": "code",
   "execution_count": 41,
   "id": "8b08e5be",
   "metadata": {},
   "outputs": [
    {
     "data": {
      "text/html": [
       "<div>\n",
       "<style scoped>\n",
       "    .dataframe tbody tr th:only-of-type {\n",
       "        vertical-align: middle;\n",
       "    }\n",
       "\n",
       "    .dataframe tbody tr th {\n",
       "        vertical-align: top;\n",
       "    }\n",
       "\n",
       "    .dataframe thead th {\n",
       "        text-align: right;\n",
       "    }\n",
       "</style>\n",
       "<table border=\"1\" class=\"dataframe\">\n",
       "  <thead>\n",
       "    <tr style=\"text-align: right;\">\n",
       "      <th></th>\n",
       "      <th>Date</th>\n",
       "      <th>Voucher</th>\n",
       "      <th>Party</th>\n",
       "      <th>Product</th>\n",
       "      <th>Qty</th>\n",
       "      <th>Rate</th>\n",
       "      <th>Gross</th>\n",
       "      <th>Disc</th>\n",
       "      <th>Voucher Amount</th>\n",
       "    </tr>\n",
       "  </thead>\n",
       "  <tbody>\n",
       "    <tr>\n",
       "      <th>0</th>\n",
       "      <td>1/4/2017</td>\n",
       "      <td>Sal:1</td>\n",
       "      <td>SOLANKI PLASTICS</td>\n",
       "      <td>DONA-VAI-9100</td>\n",
       "      <td>2</td>\n",
       "      <td>1,690.00</td>\n",
       "      <td>3,380.00</td>\n",
       "      <td>NaN</td>\n",
       "      <td>13,100.00</td>\n",
       "    </tr>\n",
       "    <tr>\n",
       "      <th>1</th>\n",
       "      <td>1/4/2017</td>\n",
       "      <td>Sal:1</td>\n",
       "      <td>SOLANKI PLASTICS</td>\n",
       "      <td>LITE FOAM(1200)</td>\n",
       "      <td>6</td>\n",
       "      <td>1,620.00</td>\n",
       "      <td>9,720.00</td>\n",
       "      <td>NaN</td>\n",
       "      <td>NaN</td>\n",
       "    </tr>\n",
       "    <tr>\n",
       "      <th>2</th>\n",
       "      <td>1/4/2017</td>\n",
       "      <td>Sal:2</td>\n",
       "      <td>SARNESWARA TRADERS</td>\n",
       "      <td>VISHNU CHOTA WINE</td>\n",
       "      <td>500</td>\n",
       "      <td>23</td>\n",
       "      <td>11,500.00</td>\n",
       "      <td>NaN</td>\n",
       "      <td>30,990.00</td>\n",
       "    </tr>\n",
       "    <tr>\n",
       "      <th>3</th>\n",
       "      <td>1/4/2017</td>\n",
       "      <td>Sal:2</td>\n",
       "      <td>SARNESWARA TRADERS</td>\n",
       "      <td>LITE FOAM(1200)</td>\n",
       "      <td>6</td>\n",
       "      <td>1,620.00</td>\n",
       "      <td>9,720.00</td>\n",
       "      <td>NaN</td>\n",
       "      <td>NaN</td>\n",
       "    </tr>\n",
       "    <tr>\n",
       "      <th>4</th>\n",
       "      <td>1/4/2017</td>\n",
       "      <td>Sal:2</td>\n",
       "      <td>SARNESWARA TRADERS</td>\n",
       "      <td>DONA-VAI-9100</td>\n",
       "      <td>5</td>\n",
       "      <td>1,690.00</td>\n",
       "      <td>8,450.00</td>\n",
       "      <td>NaN</td>\n",
       "      <td>NaN</td>\n",
       "    </tr>\n",
       "  </tbody>\n",
       "</table>\n",
       "</div>"
      ],
      "text/plain": [
       "       Date Voucher               Party            Product  Qty      Rate  \\\n",
       "0  1/4/2017   Sal:1    SOLANKI PLASTICS      DONA-VAI-9100    2  1,690.00   \n",
       "1  1/4/2017   Sal:1    SOLANKI PLASTICS    LITE FOAM(1200)    6  1,620.00   \n",
       "2  1/4/2017   Sal:2  SARNESWARA TRADERS  VISHNU CHOTA WINE  500        23   \n",
       "3  1/4/2017   Sal:2  SARNESWARA TRADERS    LITE FOAM(1200)    6  1,620.00   \n",
       "4  1/4/2017   Sal:2  SARNESWARA TRADERS      DONA-VAI-9100    5  1,690.00   \n",
       "\n",
       "       Gross Disc Voucher Amount  \n",
       "0   3,380.00  NaN      13,100.00  \n",
       "1   9,720.00  NaN            NaN  \n",
       "2  11,500.00  NaN      30,990.00  \n",
       "3   9,720.00  NaN            NaN  \n",
       "4   8,450.00  NaN            NaN  "
      ]
     },
     "execution_count": 41,
     "metadata": {},
     "output_type": "execute_result"
    }
   ],
   "source": [
    "sales_data = pd.concat([sales_data_2017,sales_data_2018,sales_data_2019])\n",
    "sales_data.head()"
   ]
  },
  {
   "cell_type": "code",
   "execution_count": 42,
   "id": "8c5709d6",
   "metadata": {},
   "outputs": [
    {
     "data": {
      "text/plain": [
       "(111206, 9)"
      ]
     },
     "execution_count": 42,
     "metadata": {},
     "output_type": "execute_result"
    }
   ],
   "source": [
    "sales_data.shape"
   ]
  },
  {
   "cell_type": "code",
   "execution_count": 43,
   "id": "f8d1ea28",
   "metadata": {},
   "outputs": [
    {
     "name": "stdout",
     "output_type": "stream",
     "text": [
      "<class 'pandas.core.frame.DataFrame'>\n",
      "Int64Index: 111206 entries, 0 to 19175\n",
      "Data columns (total 9 columns):\n",
      " #   Column          Non-Null Count   Dtype \n",
      "---  ------          --------------   ----- \n",
      " 0   Date            98615 non-null   object\n",
      " 1   Voucher         98649 non-null   object\n",
      " 2   Party           111166 non-null  object\n",
      " 3   Product         98615 non-null   object\n",
      " 4   Qty             98649 non-null   object\n",
      " 5   Rate            98648 non-null   object\n",
      " 6   Gross           98648 non-null   object\n",
      " 7   Disc            5597 non-null    object\n",
      " 8   Voucher Amount  27560 non-null   object\n",
      "dtypes: object(9)\n",
      "memory usage: 8.5+ MB\n"
     ]
    }
   ],
   "source": [
    "sales_data.info()"
   ]
  },
  {
   "cell_type": "code",
   "execution_count": 44,
   "id": "94296113",
   "metadata": {},
   "outputs": [
    {
     "data": {
      "text/plain": [
       "Date               12591\n",
       "Voucher            12557\n",
       "Party                 40\n",
       "Product            12591\n",
       "Qty                12557\n",
       "Rate               12558\n",
       "Gross              12558\n",
       "Disc              105609\n",
       "Voucher Amount     83646\n",
       "dtype: int64"
      ]
     },
     "execution_count": 44,
     "metadata": {},
     "output_type": "execute_result"
    }
   ],
   "source": [
    "sales_data.isnull().sum()"
   ]
  },
  {
   "cell_type": "code",
   "execution_count": 45,
   "id": "ab801fe4",
   "metadata": {},
   "outputs": [
    {
     "data": {
      "text/plain": [
       "Date              object\n",
       "Voucher           object\n",
       "Party             object\n",
       "Product           object\n",
       "Qty               object\n",
       "Rate              object\n",
       "Gross             object\n",
       "Disc              object\n",
       "Voucher Amount    object\n",
       "dtype: object"
      ]
     },
     "execution_count": 45,
     "metadata": {},
     "output_type": "execute_result"
    }
   ],
   "source": [
    "sales_data.dtypes"
   ]
  },
  {
   "cell_type": "code",
   "execution_count": 46,
   "id": "467aff9a",
   "metadata": {},
   "outputs": [],
   "source": [
    "sales_data.drop(columns=[\"Gross\",\"Disc\",\"Voucher Amount\"],axis=1,inplace=True)"
   ]
  },
  {
   "cell_type": "code",
   "execution_count": 47,
   "id": "8443b42b",
   "metadata": {},
   "outputs": [
    {
     "data": {
      "text/html": [
       "<div>\n",
       "<style scoped>\n",
       "    .dataframe tbody tr th:only-of-type {\n",
       "        vertical-align: middle;\n",
       "    }\n",
       "\n",
       "    .dataframe tbody tr th {\n",
       "        vertical-align: top;\n",
       "    }\n",
       "\n",
       "    .dataframe thead th {\n",
       "        text-align: right;\n",
       "    }\n",
       "</style>\n",
       "<table border=\"1\" class=\"dataframe\">\n",
       "  <thead>\n",
       "    <tr style=\"text-align: right;\">\n",
       "      <th></th>\n",
       "      <th>Date</th>\n",
       "      <th>Voucher</th>\n",
       "      <th>Party</th>\n",
       "      <th>Product</th>\n",
       "      <th>Qty</th>\n",
       "      <th>Rate</th>\n",
       "    </tr>\n",
       "  </thead>\n",
       "  <tbody>\n",
       "    <tr>\n",
       "      <th>0</th>\n",
       "      <td>1/4/2017</td>\n",
       "      <td>Sal:1</td>\n",
       "      <td>SOLANKI PLASTICS</td>\n",
       "      <td>DONA-VAI-9100</td>\n",
       "      <td>2</td>\n",
       "      <td>1,690.00</td>\n",
       "    </tr>\n",
       "    <tr>\n",
       "      <th>1</th>\n",
       "      <td>1/4/2017</td>\n",
       "      <td>Sal:1</td>\n",
       "      <td>SOLANKI PLASTICS</td>\n",
       "      <td>LITE FOAM(1200)</td>\n",
       "      <td>6</td>\n",
       "      <td>1,620.00</td>\n",
       "    </tr>\n",
       "    <tr>\n",
       "      <th>2</th>\n",
       "      <td>1/4/2017</td>\n",
       "      <td>Sal:2</td>\n",
       "      <td>SARNESWARA TRADERS</td>\n",
       "      <td>VISHNU CHOTA WINE</td>\n",
       "      <td>500</td>\n",
       "      <td>23</td>\n",
       "    </tr>\n",
       "    <tr>\n",
       "      <th>3</th>\n",
       "      <td>1/4/2017</td>\n",
       "      <td>Sal:2</td>\n",
       "      <td>SARNESWARA TRADERS</td>\n",
       "      <td>LITE FOAM(1200)</td>\n",
       "      <td>6</td>\n",
       "      <td>1,620.00</td>\n",
       "    </tr>\n",
       "    <tr>\n",
       "      <th>4</th>\n",
       "      <td>1/4/2017</td>\n",
       "      <td>Sal:2</td>\n",
       "      <td>SARNESWARA TRADERS</td>\n",
       "      <td>DONA-VAI-9100</td>\n",
       "      <td>5</td>\n",
       "      <td>1,690.00</td>\n",
       "    </tr>\n",
       "    <tr>\n",
       "      <th>...</th>\n",
       "      <td>...</td>\n",
       "      <td>...</td>\n",
       "      <td>...</td>\n",
       "      <td>...</td>\n",
       "      <td>...</td>\n",
       "      <td>...</td>\n",
       "    </tr>\n",
       "    <tr>\n",
       "      <th>19171</th>\n",
       "      <td>10/10/2019</td>\n",
       "      <td>Sal:4935</td>\n",
       "      <td>K.SRIHARI</td>\n",
       "      <td>13*16 WHITE RK</td>\n",
       "      <td>400</td>\n",
       "      <td>16</td>\n",
       "    </tr>\n",
       "    <tr>\n",
       "      <th>19172</th>\n",
       "      <td>NaN</td>\n",
       "      <td>NaN</td>\n",
       "      <td>NaN</td>\n",
       "      <td>NaN</td>\n",
       "      <td>NaN</td>\n",
       "      <td>NaN</td>\n",
       "    </tr>\n",
       "    <tr>\n",
       "      <th>19173</th>\n",
       "      <td>NaN</td>\n",
       "      <td>NaN</td>\n",
       "      <td>NaN</td>\n",
       "      <td>NaN</td>\n",
       "      <td>NaN</td>\n",
       "      <td>NaN</td>\n",
       "    </tr>\n",
       "    <tr>\n",
       "      <th>19174</th>\n",
       "      <td>NaN</td>\n",
       "      <td>Total</td>\n",
       "      <td>NaN</td>\n",
       "      <td>NaN</td>\n",
       "      <td>99,284.90</td>\n",
       "      <td>175,381.65</td>\n",
       "    </tr>\n",
       "    <tr>\n",
       "      <th>19175</th>\n",
       "      <td>NaN</td>\n",
       "      <td>Total</td>\n",
       "      <td>NaN</td>\n",
       "      <td>NaN</td>\n",
       "      <td>2,710,193.00</td>\n",
       "      <td>5,519,888.40</td>\n",
       "    </tr>\n",
       "  </tbody>\n",
       "</table>\n",
       "<p>111206 rows × 6 columns</p>\n",
       "</div>"
      ],
      "text/plain": [
       "             Date   Voucher               Party            Product  \\\n",
       "0        1/4/2017     Sal:1    SOLANKI PLASTICS      DONA-VAI-9100   \n",
       "1        1/4/2017     Sal:1    SOLANKI PLASTICS    LITE FOAM(1200)   \n",
       "2        1/4/2017     Sal:2  SARNESWARA TRADERS  VISHNU CHOTA WINE   \n",
       "3        1/4/2017     Sal:2  SARNESWARA TRADERS    LITE FOAM(1200)   \n",
       "4        1/4/2017     Sal:2  SARNESWARA TRADERS      DONA-VAI-9100   \n",
       "...           ...       ...                 ...                ...   \n",
       "19171  10/10/2019  Sal:4935           K.SRIHARI     13*16 WHITE RK   \n",
       "19172         NaN       NaN                 NaN                NaN   \n",
       "19173         NaN       NaN                 NaN                NaN   \n",
       "19174         NaN   Total                   NaN                NaN   \n",
       "19175         NaN   Total                   NaN                NaN   \n",
       "\n",
       "                Qty          Rate  \n",
       "0                 2      1,690.00  \n",
       "1                 6      1,620.00  \n",
       "2               500            23  \n",
       "3                 6      1,620.00  \n",
       "4                 5      1,690.00  \n",
       "...             ...           ...  \n",
       "19171           400            16  \n",
       "19172           NaN           NaN  \n",
       "19173           NaN           NaN  \n",
       "19174     99,284.90    175,381.65  \n",
       "19175  2,710,193.00  5,519,888.40  \n",
       "\n",
       "[111206 rows x 6 columns]"
      ]
     },
     "execution_count": 47,
     "metadata": {},
     "output_type": "execute_result"
    }
   ],
   "source": [
    "sales_data"
   ]
  },
  {
   "cell_type": "code",
   "execution_count": 48,
   "id": "be29c9e6",
   "metadata": {},
   "outputs": [],
   "source": [
    "sales_data[\"Voucher\"].replace(to_replace=\"Sal:\",value=\"\",inplace=True,regex=True)\n",
    "sales_data[\"Qty\"].replace(to_replace=\",\",value=\"\",inplace=True,regex=True)\n",
    "sales_data[\"Rate\"].replace(to_replace=\",\",value=\"\",inplace=True,regex=True)"
   ]
  },
  {
   "cell_type": "code",
   "execution_count": 49,
   "id": "a98b2509",
   "metadata": {},
   "outputs": [
    {
     "data": {
      "text/html": [
       "<div>\n",
       "<style scoped>\n",
       "    .dataframe tbody tr th:only-of-type {\n",
       "        vertical-align: middle;\n",
       "    }\n",
       "\n",
       "    .dataframe tbody tr th {\n",
       "        vertical-align: top;\n",
       "    }\n",
       "\n",
       "    .dataframe thead th {\n",
       "        text-align: right;\n",
       "    }\n",
       "</style>\n",
       "<table border=\"1\" class=\"dataframe\">\n",
       "  <thead>\n",
       "    <tr style=\"text-align: right;\">\n",
       "      <th></th>\n",
       "      <th>Date</th>\n",
       "      <th>Voucher</th>\n",
       "      <th>Party</th>\n",
       "      <th>Product</th>\n",
       "      <th>Qty</th>\n",
       "      <th>Rate</th>\n",
       "    </tr>\n",
       "  </thead>\n",
       "  <tbody>\n",
       "    <tr>\n",
       "      <th>0</th>\n",
       "      <td>1/4/2017</td>\n",
       "      <td>1</td>\n",
       "      <td>SOLANKI PLASTICS</td>\n",
       "      <td>DONA-VAI-9100</td>\n",
       "      <td>2</td>\n",
       "      <td>1690.00</td>\n",
       "    </tr>\n",
       "    <tr>\n",
       "      <th>1</th>\n",
       "      <td>1/4/2017</td>\n",
       "      <td>1</td>\n",
       "      <td>SOLANKI PLASTICS</td>\n",
       "      <td>LITE FOAM(1200)</td>\n",
       "      <td>6</td>\n",
       "      <td>1620.00</td>\n",
       "    </tr>\n",
       "    <tr>\n",
       "      <th>2</th>\n",
       "      <td>1/4/2017</td>\n",
       "      <td>2</td>\n",
       "      <td>SARNESWARA TRADERS</td>\n",
       "      <td>VISHNU CHOTA WINE</td>\n",
       "      <td>500</td>\n",
       "      <td>23</td>\n",
       "    </tr>\n",
       "    <tr>\n",
       "      <th>3</th>\n",
       "      <td>1/4/2017</td>\n",
       "      <td>2</td>\n",
       "      <td>SARNESWARA TRADERS</td>\n",
       "      <td>LITE FOAM(1200)</td>\n",
       "      <td>6</td>\n",
       "      <td>1620.00</td>\n",
       "    </tr>\n",
       "    <tr>\n",
       "      <th>4</th>\n",
       "      <td>1/4/2017</td>\n",
       "      <td>2</td>\n",
       "      <td>SARNESWARA TRADERS</td>\n",
       "      <td>DONA-VAI-9100</td>\n",
       "      <td>5</td>\n",
       "      <td>1690.00</td>\n",
       "    </tr>\n",
       "  </tbody>\n",
       "</table>\n",
       "</div>"
      ],
      "text/plain": [
       "       Date Voucher               Party            Product  Qty     Rate\n",
       "0  1/4/2017       1    SOLANKI PLASTICS      DONA-VAI-9100    2  1690.00\n",
       "1  1/4/2017       1    SOLANKI PLASTICS    LITE FOAM(1200)    6  1620.00\n",
       "2  1/4/2017       2  SARNESWARA TRADERS  VISHNU CHOTA WINE  500       23\n",
       "3  1/4/2017       2  SARNESWARA TRADERS    LITE FOAM(1200)    6  1620.00\n",
       "4  1/4/2017       2  SARNESWARA TRADERS      DONA-VAI-9100    5  1690.00"
      ]
     },
     "execution_count": 49,
     "metadata": {},
     "output_type": "execute_result"
    }
   ],
   "source": [
    "sales_data.head()"
   ]
  },
  {
   "cell_type": "code",
   "execution_count": 50,
   "id": "20bef41b",
   "metadata": {},
   "outputs": [
    {
     "data": {
      "text/plain": [
       "Date       object\n",
       "Voucher    object\n",
       "Party      object\n",
       "Product    object\n",
       "Qty        object\n",
       "Rate       object\n",
       "dtype: object"
      ]
     },
     "execution_count": 50,
     "metadata": {},
     "output_type": "execute_result"
    }
   ],
   "source": [
    "sales_data.dtypes"
   ]
  },
  {
   "cell_type": "code",
   "execution_count": 51,
   "id": "556ca38e",
   "metadata": {},
   "outputs": [
    {
     "data": {
      "text/plain": [
       "Date       12591\n",
       "Voucher    12557\n",
       "Party         40\n",
       "Product    12591\n",
       "Qty        12557\n",
       "Rate       12558\n",
       "dtype: int64"
      ]
     },
     "execution_count": 51,
     "metadata": {},
     "output_type": "execute_result"
    }
   ],
   "source": [
    "sales_data.isnull().sum()"
   ]
  },
  {
   "cell_type": "code",
   "execution_count": 52,
   "id": "4aa7d193",
   "metadata": {},
   "outputs": [],
   "source": [
    "sales_data[\"Date\"] = pd.to_datetime(sales_data[\"Date\"],errors=\"coerce\")\n",
    "sales_data[\"Voucher\"] = pd.to_numeric(sales_data[\"Voucher\"],errors=\"coerce\")\n",
    "sales_data[\"Qty\"] = pd.to_numeric(sales_data[\"Qty\"],errors=\"coerce\")\n",
    "sales_data[\"Rate\"] = pd.to_numeric(sales_data[\"Rate\"],errors=\"coerce\")\n"
   ]
  },
  {
   "cell_type": "code",
   "execution_count": 53,
   "id": "cbe9009c",
   "metadata": {},
   "outputs": [
    {
     "data": {
      "text/plain": [
       "(111206, 6)"
      ]
     },
     "execution_count": 53,
     "metadata": {},
     "output_type": "execute_result"
    }
   ],
   "source": [
    "sales_data.shape"
   ]
  },
  {
   "cell_type": "code",
   "execution_count": 54,
   "id": "2bf9184d",
   "metadata": {},
   "outputs": [
    {
     "data": {
      "text/plain": [
       "(95561, 6)"
      ]
     },
     "execution_count": 54,
     "metadata": {},
     "output_type": "execute_result"
    }
   ],
   "source": [
    "sales_data.dropna(inplace=True)\n",
    "sales_data.shape"
   ]
  },
  {
   "cell_type": "code",
   "execution_count": 55,
   "id": "bd006fff",
   "metadata": {},
   "outputs": [
    {
     "data": {
      "text/plain": [
       "Date       0\n",
       "Voucher    0\n",
       "Party      0\n",
       "Product    0\n",
       "Qty        0\n",
       "Rate       0\n",
       "dtype: int64"
      ]
     },
     "execution_count": 55,
     "metadata": {},
     "output_type": "execute_result"
    }
   ],
   "source": [
    "sales_data.isnull().sum()"
   ]
  },
  {
   "cell_type": "code",
   "execution_count": 56,
   "id": "4e6f6504",
   "metadata": {},
   "outputs": [],
   "source": [
    "sales_data[\"Voucher\"]=sales_data[\"Voucher\"].astype('float').astype('int')"
   ]
  },
  {
   "cell_type": "code",
   "execution_count": 57,
   "id": "4fd15010",
   "metadata": {},
   "outputs": [],
   "source": [
    "sales_data[\"Qty\"]=sales_data[\"Qty\"].astype('float').astype('int')"
   ]
  },
  {
   "cell_type": "code",
   "execution_count": 58,
   "id": "d92bb48e",
   "metadata": {},
   "outputs": [
    {
     "data": {
      "text/plain": [
       "Date       datetime64[ns]\n",
       "Voucher             int32\n",
       "Party              object\n",
       "Product            object\n",
       "Qty                 int32\n",
       "Rate              float64\n",
       "dtype: object"
      ]
     },
     "execution_count": 58,
     "metadata": {},
     "output_type": "execute_result"
    }
   ],
   "source": [
    "sales_data.dtypes"
   ]
  },
  {
   "cell_type": "code",
   "execution_count": 59,
   "id": "90604534",
   "metadata": {},
   "outputs": [],
   "source": [
    "sales_data[\"Party\"] = sales_data[\"Party\"].apply(lambda x:x.upper())"
   ]
  },
  {
   "cell_type": "code",
   "execution_count": 60,
   "id": "688a07db",
   "metadata": {},
   "outputs": [],
   "source": [
    "sales_data[\"Product\"] = sales_data[\"Product\"].apply(lambda x:x.upper())"
   ]
  },
  {
   "cell_type": "code",
   "execution_count": 61,
   "id": "2d9913bd",
   "metadata": {},
   "outputs": [
    {
     "data": {
      "text/html": [
       "<div>\n",
       "<style scoped>\n",
       "    .dataframe tbody tr th:only-of-type {\n",
       "        vertical-align: middle;\n",
       "    }\n",
       "\n",
       "    .dataframe tbody tr th {\n",
       "        vertical-align: top;\n",
       "    }\n",
       "\n",
       "    .dataframe thead th {\n",
       "        text-align: right;\n",
       "    }\n",
       "</style>\n",
       "<table border=\"1\" class=\"dataframe\">\n",
       "  <thead>\n",
       "    <tr style=\"text-align: right;\">\n",
       "      <th></th>\n",
       "      <th>Date</th>\n",
       "      <th>Voucher</th>\n",
       "      <th>Party</th>\n",
       "      <th>Product</th>\n",
       "      <th>Qty</th>\n",
       "      <th>Rate</th>\n",
       "    </tr>\n",
       "  </thead>\n",
       "  <tbody>\n",
       "    <tr>\n",
       "      <th>0</th>\n",
       "      <td>2017-01-04</td>\n",
       "      <td>1</td>\n",
       "      <td>SOLANKI PLASTICS</td>\n",
       "      <td>DONA-VAI-9100</td>\n",
       "      <td>2</td>\n",
       "      <td>1690.0</td>\n",
       "    </tr>\n",
       "    <tr>\n",
       "      <th>1</th>\n",
       "      <td>2017-01-04</td>\n",
       "      <td>1</td>\n",
       "      <td>SOLANKI PLASTICS</td>\n",
       "      <td>LITE FOAM(1200)</td>\n",
       "      <td>6</td>\n",
       "      <td>1620.0</td>\n",
       "    </tr>\n",
       "    <tr>\n",
       "      <th>2</th>\n",
       "      <td>2017-01-04</td>\n",
       "      <td>2</td>\n",
       "      <td>SARNESWARA TRADERS</td>\n",
       "      <td>VISHNU CHOTA WINE</td>\n",
       "      <td>500</td>\n",
       "      <td>23.0</td>\n",
       "    </tr>\n",
       "    <tr>\n",
       "      <th>3</th>\n",
       "      <td>2017-01-04</td>\n",
       "      <td>2</td>\n",
       "      <td>SARNESWARA TRADERS</td>\n",
       "      <td>LITE FOAM(1200)</td>\n",
       "      <td>6</td>\n",
       "      <td>1620.0</td>\n",
       "    </tr>\n",
       "    <tr>\n",
       "      <th>4</th>\n",
       "      <td>2017-01-04</td>\n",
       "      <td>2</td>\n",
       "      <td>SARNESWARA TRADERS</td>\n",
       "      <td>DONA-VAI-9100</td>\n",
       "      <td>5</td>\n",
       "      <td>1690.0</td>\n",
       "    </tr>\n",
       "    <tr>\n",
       "      <th>...</th>\n",
       "      <td>...</td>\n",
       "      <td>...</td>\n",
       "      <td>...</td>\n",
       "      <td>...</td>\n",
       "      <td>...</td>\n",
       "      <td>...</td>\n",
       "    </tr>\n",
       "    <tr>\n",
       "      <th>19167</th>\n",
       "      <td>2019-10-10</td>\n",
       "      <td>4935</td>\n",
       "      <td>K.SRIHARI</td>\n",
       "      <td>16*20(100-W)</td>\n",
       "      <td>140</td>\n",
       "      <td>26.0</td>\n",
       "    </tr>\n",
       "    <tr>\n",
       "      <th>19168</th>\n",
       "      <td>2019-10-10</td>\n",
       "      <td>4935</td>\n",
       "      <td>K.SRIHARI</td>\n",
       "      <td>10*12 KRISHNA-BK(10</td>\n",
       "      <td>600</td>\n",
       "      <td>8.4</td>\n",
       "    </tr>\n",
       "    <tr>\n",
       "      <th>19169</th>\n",
       "      <td>2019-10-10</td>\n",
       "      <td>4935</td>\n",
       "      <td>K.SRIHARI</td>\n",
       "      <td>13*16 BK(100)KRISHN</td>\n",
       "      <td>320</td>\n",
       "      <td>16.0</td>\n",
       "    </tr>\n",
       "    <tr>\n",
       "      <th>19170</th>\n",
       "      <td>2019-10-10</td>\n",
       "      <td>4935</td>\n",
       "      <td>K.SRIHARI</td>\n",
       "      <td>10*12 RK</td>\n",
       "      <td>800</td>\n",
       "      <td>8.5</td>\n",
       "    </tr>\n",
       "    <tr>\n",
       "      <th>19171</th>\n",
       "      <td>2019-10-10</td>\n",
       "      <td>4935</td>\n",
       "      <td>K.SRIHARI</td>\n",
       "      <td>13*16 WHITE RK</td>\n",
       "      <td>400</td>\n",
       "      <td>16.0</td>\n",
       "    </tr>\n",
       "  </tbody>\n",
       "</table>\n",
       "<p>95561 rows × 6 columns</p>\n",
       "</div>"
      ],
      "text/plain": [
       "            Date  Voucher               Party              Product  Qty  \\\n",
       "0     2017-01-04        1    SOLANKI PLASTICS        DONA-VAI-9100    2   \n",
       "1     2017-01-04        1    SOLANKI PLASTICS      LITE FOAM(1200)    6   \n",
       "2     2017-01-04        2  SARNESWARA TRADERS    VISHNU CHOTA WINE  500   \n",
       "3     2017-01-04        2  SARNESWARA TRADERS      LITE FOAM(1200)    6   \n",
       "4     2017-01-04        2  SARNESWARA TRADERS        DONA-VAI-9100    5   \n",
       "...          ...      ...                 ...                  ...  ...   \n",
       "19167 2019-10-10     4935           K.SRIHARI         16*20(100-W)  140   \n",
       "19168 2019-10-10     4935           K.SRIHARI  10*12 KRISHNA-BK(10  600   \n",
       "19169 2019-10-10     4935           K.SRIHARI  13*16 BK(100)KRISHN  320   \n",
       "19170 2019-10-10     4935           K.SRIHARI             10*12 RK  800   \n",
       "19171 2019-10-10     4935           K.SRIHARI       13*16 WHITE RK  400   \n",
       "\n",
       "         Rate  \n",
       "0      1690.0  \n",
       "1      1620.0  \n",
       "2        23.0  \n",
       "3      1620.0  \n",
       "4      1690.0  \n",
       "...       ...  \n",
       "19167    26.0  \n",
       "19168     8.4  \n",
       "19169    16.0  \n",
       "19170     8.5  \n",
       "19171    16.0  \n",
       "\n",
       "[95561 rows x 6 columns]"
      ]
     },
     "execution_count": 61,
     "metadata": {},
     "output_type": "execute_result"
    }
   ],
   "source": [
    "sales_data"
   ]
  },
  {
   "cell_type": "code",
   "execution_count": 62,
   "id": "3fb5d2ff",
   "metadata": {},
   "outputs": [
    {
     "data": {
      "text/plain": [
       "(95561, 6)"
      ]
     },
     "execution_count": 62,
     "metadata": {},
     "output_type": "execute_result"
    }
   ],
   "source": [
    "sales_data.shape"
   ]
  },
  {
   "cell_type": "code",
   "execution_count": 63,
   "id": "2d79c3a9",
   "metadata": {},
   "outputs": [
    {
     "data": {
      "text/plain": [
       "Date       0\n",
       "Voucher    0\n",
       "Party      0\n",
       "Product    0\n",
       "Qty        0\n",
       "Rate       0\n",
       "dtype: int64"
      ]
     },
     "execution_count": 63,
     "metadata": {},
     "output_type": "execute_result"
    }
   ],
   "source": [
    "sales_data.isnull().sum()"
   ]
  },
  {
   "cell_type": "code",
   "execution_count": 64,
   "id": "87af193c",
   "metadata": {},
   "outputs": [
    {
     "data": {
      "text/plain": [
       "Date       datetime64[ns]\n",
       "Voucher             int32\n",
       "Party              object\n",
       "Product            object\n",
       "Qty                 int32\n",
       "Rate              float64\n",
       "dtype: object"
      ]
     },
     "execution_count": 64,
     "metadata": {},
     "output_type": "execute_result"
    }
   ],
   "source": [
    "sales_data.dtypes"
   ]
  },
  {
   "cell_type": "code",
   "execution_count": null,
   "id": "6f8fa7bc",
   "metadata": {},
   "outputs": [],
   "source": []
  }
 ],
 "metadata": {
  "kernelspec": {
   "display_name": "Python 3 (ipykernel)",
   "language": "python",
   "name": "python3"
  },
  "language_info": {
   "codemirror_mode": {
    "name": "ipython",
    "version": 3
   },
   "file_extension": ".py",
   "mimetype": "text/x-python",
   "name": "python",
   "nbconvert_exporter": "python",
   "pygments_lexer": "ipython3",
   "version": "3.9.7"
  }
 },
 "nbformat": 4,
 "nbformat_minor": 5
}
